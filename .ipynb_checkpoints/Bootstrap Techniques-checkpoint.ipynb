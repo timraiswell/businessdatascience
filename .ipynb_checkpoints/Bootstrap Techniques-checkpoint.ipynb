{
 "cells": [
  {
   "cell_type": "markdown",
   "metadata": {},
   "source": [
    "### Chapter 1: Uncertainty\n",
    "#### The Bootstrap"
   ]
  },
  {
   "cell_type": "code",
   "execution_count": 10,
   "metadata": {},
   "outputs": [],
   "source": [
    "# scikit's bootstrap functionality\n",
    "from sklearn.utils import resample\n",
    "import pandas as pd\n",
    "# Useful javascript plotting API for pandas that improves on matplotlib's visualization.\n",
    "#!pip install hvplot\n",
    "import hvplot.pandas\n",
    "import numpy as np"
   ]
  },
  {
   "cell_type": "code",
   "execution_count": 4,
   "metadata": {},
   "outputs": [],
   "source": [
    "# Ingest the web browsers data\n",
    "df = pd.read_csv(\"./examples/web-browsers.csv\")"
   ]
  },
  {
   "cell_type": "code",
   "execution_count": 5,
   "metadata": {},
   "outputs": [
    {
     "data": {
      "text/html": [
       "<div>\n",
       "<style scoped>\n",
       "    .dataframe tbody tr th:only-of-type {\n",
       "        vertical-align: middle;\n",
       "    }\n",
       "\n",
       "    .dataframe tbody tr th {\n",
       "        vertical-align: top;\n",
       "    }\n",
       "\n",
       "    .dataframe thead th {\n",
       "        text-align: right;\n",
       "    }\n",
       "</style>\n",
       "<table border=\"1\" class=\"dataframe\">\n",
       "  <thead>\n",
       "    <tr style=\"text-align: right;\">\n",
       "      <th></th>\n",
       "      <th>id</th>\n",
       "      <th>anychildren</th>\n",
       "      <th>broadband</th>\n",
       "      <th>hispanic</th>\n",
       "      <th>race</th>\n",
       "      <th>region</th>\n",
       "      <th>spend</th>\n",
       "    </tr>\n",
       "  </thead>\n",
       "  <tbody>\n",
       "    <tr>\n",
       "      <td>0</td>\n",
       "      <td>1</td>\n",
       "      <td>0</td>\n",
       "      <td>1</td>\n",
       "      <td>0</td>\n",
       "      <td>white</td>\n",
       "      <td>MW</td>\n",
       "      <td>424</td>\n",
       "    </tr>\n",
       "    <tr>\n",
       "      <td>1</td>\n",
       "      <td>2</td>\n",
       "      <td>1</td>\n",
       "      <td>1</td>\n",
       "      <td>0</td>\n",
       "      <td>white</td>\n",
       "      <td>MW</td>\n",
       "      <td>2335</td>\n",
       "    </tr>\n",
       "    <tr>\n",
       "      <td>2</td>\n",
       "      <td>3</td>\n",
       "      <td>1</td>\n",
       "      <td>1</td>\n",
       "      <td>0</td>\n",
       "      <td>white</td>\n",
       "      <td>MW</td>\n",
       "      <td>279</td>\n",
       "    </tr>\n",
       "    <tr>\n",
       "      <td>3</td>\n",
       "      <td>4</td>\n",
       "      <td>0</td>\n",
       "      <td>1</td>\n",
       "      <td>0</td>\n",
       "      <td>white</td>\n",
       "      <td>MW</td>\n",
       "      <td>829</td>\n",
       "    </tr>\n",
       "    <tr>\n",
       "      <td>4</td>\n",
       "      <td>5</td>\n",
       "      <td>0</td>\n",
       "      <td>1</td>\n",
       "      <td>0</td>\n",
       "      <td>white</td>\n",
       "      <td>S</td>\n",
       "      <td>221</td>\n",
       "    </tr>\n",
       "  </tbody>\n",
       "</table>\n",
       "</div>"
      ],
      "text/plain": [
       "   id  anychildren  broadband  hispanic   race region  spend\n",
       "0   1            0          1         0  white     MW    424\n",
       "1   2            1          1         0  white     MW   2335\n",
       "2   3            1          1         0  white     MW    279\n",
       "3   4            0          1         0  white     MW    829\n",
       "4   5            0          1         0  white      S    221"
      ]
     },
     "execution_count": 5,
     "metadata": {},
     "output_type": "execute_result"
    }
   ],
   "source": [
    "df.head()"
   ]
  },
  {
   "cell_type": "code",
   "execution_count": 6,
   "metadata": {},
   "outputs": [
    {
     "name": "stdout",
     "output_type": "stream",
     "text": [
      "<class 'pandas.core.frame.DataFrame'>\n",
      "RangeIndex: 10000 entries, 0 to 9999\n",
      "Data columns (total 7 columns):\n",
      "id             10000 non-null int64\n",
      "anychildren    10000 non-null int64\n",
      "broadband      10000 non-null int64\n",
      "hispanic       10000 non-null int64\n",
      "race           10000 non-null object\n",
      "region         10000 non-null object\n",
      "spend          10000 non-null int64\n",
      "dtypes: int64(5), object(2)\n",
      "memory usage: 547.0+ KB\n"
     ]
    }
   ],
   "source": [
    "df.info()"
   ]
  },
  {
   "cell_type": "code",
   "execution_count": 28,
   "metadata": {},
   "outputs": [
    {
     "name": "stdout",
     "output_type": "stream",
     "text": [
      "Mean spend is 1946.44 and the variance is 64612792.26.\n"
     ]
    }
   ],
   "source": [
    "# Mean spend value\n",
    "mean = np.mean(df[\"spend\"])\n",
    "variance = np.var(df[\"spend\"])\n",
    "\n",
    "print(\"Mean spend is {} and the variance is {}.\".format(round(mean, 2), round(variance, 2)))"
   ]
  },
  {
   "cell_type": "code",
   "execution_count": 15,
   "metadata": {},
   "outputs": [
    {
     "data": {
      "application/vnd.holoviews_exec.v0+json": "",
      "text/html": [
       "<div id='1444' style='display: table; margin: 0 auto;'>\n",
       "\n",
       "\n",
       "\n",
       "\n",
       "\n",
       "  <div class=\"bk-root\" id=\"eca612a9-3e5f-4ad4-88f5-f13be62b6875\" data-root-id=\"1444\"></div>\n",
       "</div>\n",
       "<script type=\"application/javascript\">(function(root) {\n",
       "  function embed_document(root) {\n",
       "    \n",
       "  var docs_json = {\"f985d251-6215-4107-8745-70e51c775c65\":{\"roots\":{\"references\":[{\"attributes\":{\"align\":null,\"below\":[{\"id\":\"1453\",\"type\":\"LinearAxis\"}],\"center\":[{\"id\":\"1457\",\"type\":\"Grid\"},{\"id\":\"1462\",\"type\":\"Grid\"}],\"left\":[{\"id\":\"1458\",\"type\":\"LinearAxis\"}],\"margin\":null,\"min_border_bottom\":10,\"min_border_left\":10,\"min_border_right\":10,\"min_border_top\":10,\"plot_height\":300,\"plot_width\":700,\"renderers\":[{\"id\":\"1481\",\"type\":\"GlyphRenderer\"}],\"sizing_mode\":\"fixed\",\"title\":{\"id\":\"1445\",\"type\":\"Title\"},\"toolbar\":{\"id\":\"1468\",\"type\":\"Toolbar\"},\"x_range\":{\"id\":\"1441\",\"type\":\"Range1d\"},\"x_scale\":{\"id\":\"1449\",\"type\":\"LinearScale\"},\"y_range\":{\"id\":\"1442\",\"type\":\"Range1d\"},\"y_scale\":{\"id\":\"1451\",\"type\":\"LinearScale\"}},\"id\":\"1444\",\"subtype\":\"Figure\",\"type\":\"Plot\"},{\"attributes\":{\"callback\":null,\"data\":{\"left\":{\"__ndarray__\":\"AAAAAAAAAAD+WvAd6YPQP/5a8B3pg+A/fYjorN3F6D/+WvAd6YPwP75xbGXjpPQ/fYjorN3F+D88n2T01+b8P/5a8B3pgwBAXmauQWaUAkC+cWxl46QEQB19KolgtQZAfYjorN3FCEDdk6bQWtYKQDyfZPTX5gxAnKoiGFX3DkD+WvAd6YMQQK5gz68njBFAXmauQWaUEkAObI3TpJwTQL5xbGXjpBRAbXdL9yGtFUAdfSqJYLUWQM2CCRufvRdAfYjorN3FGEAtjsc+HM4ZQN2TptBa1hpAjZmFYpneG0A8n2T01+YcQOykQ4YW7x1AnKoiGFX3HkBMsAGqk/8fQP5a8B3pgyBA1t3fZggIIUCuYM+vJ4whQIbjvvhGECJAXmauQWaUIkA26Z2KhRgjQA5sjdOknCNA5u58HMQgJEC+cWxl46QkQJX0W64CKSVAbXdL9yGtJUBF+jpAQTEmQB19KolgtSZA9f8Z0n85J0DNggkbn70nQKUF+WO+QShAfYjorN3FKEBVC9j1/EkpQA==\",\"dtype\":\"float64\",\"shape\":[50]},\"right\":{\"__ndarray__\":\"/lrwHemD0D/+WvAd6YPgP32I6Kzdxeg//lrwHemD8D++cWxl46T0P32I6Kzdxfg/PJ9k9Nfm/D/+WvAd6YMAQF5mrkFmlAJAvnFsZeOkBEAdfSqJYLUGQH2I6KzdxQhA3ZOm0FrWCkA8n2T01+YMQJyqIhhV9w5A/lrwHemDEECuYM+vJ4wRQF5mrkFmlBJADmyN06ScE0C+cWxl46QUQG13S/chrRVAHX0qiWC1FkDNggkbn70XQH2I6KzdxRhALY7HPhzOGUDdk6bQWtYaQI2ZhWKZ3htAPJ9k9NfmHEDspEOGFu8dQJyqIhhV9x5ATLABqpP/H0D+WvAd6YMgQNbd32YICCFArmDPryeMIUCG4774RhAiQF5mrkFmlCJANumdioUYI0AObI3TpJwjQObufBzEICRAvnFsZeOkJECV9FuuAiklQG13S/chrSVARfo6QEExJkAdfSqJYLUmQPX/GdJ/OSdAzYIJG5+9J0ClBfljvkEoQH2I6KzdxShAVQvY9fxJKUAtjsc+HM4pQA==\",\"dtype\":\"float64\",\"shape\":[50]},\"spend\":{\"__ndarray__\":\"/lrwHemDwD99iOis3cXYP75xbGXjpOQ/PJ9k9Nfm7D9eZq5BZpTyPx59KolgtfY/3JOm0FrW+j+cqiIYVff+P65gz68njAFADmyN06ScA0Bud0v3Ia0FQM2CCRufvQdALY7HPhzOCUCMmYVimd4LQOykQ4YW7w1ATLABqpP/D0DW3d9mCAgRQIbjvvhGEBJANumdioUYE0Dm7nwcxCAUQJb0W64CKRVARfo6QEExFkD1/xnSfzkXQKUF+WO+QRhAVQvY9fxJGUAFEbeHO1IaQLUWlhl6WhtAZBx1q7hiHEAUIlQ992odQMQnM881cx5AdC0SYXR7H0CSmXh52UEgQGocaML4xSBAQp9XCxhKIUAaIkdUN84hQPKkNp1WUiJAyicm5nXWIkCiqhUvlVojQHotBXi03iNAUrD0wNNiJEAqM+QJ8+YkQAG201ISayVA2TjDmzHvJUCxu7LkUHMmQIk+oi1w9yZAYcGRdo97J0A5RIG/rv8nQBHHcAjOgyhA6UlgUe0HKUDBzE+aDIwpQA==\",\"dtype\":\"float64\",\"shape\":[50]},\"spend_count\":[1,0,2,0,6,3,18,3,55,48,106,171,126,183,193,281,297,325,357,425,497,571,612,615,635,621,567,584,495,450,415,318,239,218,162,121,94,63,36,22,23,17,7,3,5,5,2,0,2,1],\"top\":[1,0,2,0,6,3,18,3,55,48,106,171,126,183,193,281,297,325,357,425,497,571,612,615,635,621,567,584,495,450,415,318,239,218,162,121,94,63,36,22,23,17,7,3,5,5,2,0,2,1]},\"selected\":{\"id\":\"1476\",\"type\":\"Selection\"},\"selection_policy\":{\"id\":\"1494\",\"type\":\"UnionRenderers\"}},\"id\":\"1475\",\"type\":\"ColumnDataSource\"},{\"attributes\":{},\"id\":\"1483\",\"type\":\"BasicTickFormatter\"},{\"attributes\":{\"grid_line_color\":null,\"ticker\":{\"id\":\"1454\",\"type\":\"BasicTicker\"}},\"id\":\"1457\",\"type\":\"Grid\"},{\"attributes\":{},\"id\":\"1485\",\"type\":\"BasicTickFormatter\"},{\"attributes\":{\"callback\":null,\"end\":12.902559244022166,\"reset_end\":12.902559244022166,\"reset_start\":0.0,\"tags\":[[[\"spend\",\"spend\",null]]]},\"id\":\"1441\",\"type\":\"Range1d\"},{\"attributes\":{\"callback\":null,\"end\":635.0,\"reset_end\":635.0,\"reset_start\":0.0,\"tags\":[[[\"spend_count\",\"Count\",null]]]},\"id\":\"1442\",\"type\":\"Range1d\"},{\"attributes\":{},\"id\":\"1494\",\"type\":\"UnionRenderers\"},{\"attributes\":{\"bottom\":{\"value\":0},\"fill_color\":{\"value\":\"seagreen\"},\"left\":{\"field\":\"left\"},\"line_color\":{\"value\":\"seagreen\"},\"right\":{\"field\":\"right\"},\"top\":{\"field\":\"top\"}},\"id\":\"1478\",\"type\":\"Quad\"},{\"attributes\":{\"active_drag\":\"auto\",\"active_inspect\":\"auto\",\"active_multi\":null,\"active_scroll\":\"auto\",\"active_tap\":\"auto\",\"tools\":[{\"id\":\"1443\",\"type\":\"HoverTool\"},{\"id\":\"1463\",\"type\":\"SaveTool\"},{\"id\":\"1464\",\"type\":\"PanTool\"},{\"id\":\"1465\",\"type\":\"WheelZoomTool\"},{\"id\":\"1466\",\"type\":\"BoxZoomTool\"},{\"id\":\"1467\",\"type\":\"ResetTool\"}]},\"id\":\"1468\",\"type\":\"Toolbar\"},{\"attributes\":{\"bottom\":{\"value\":0},\"fill_alpha\":{\"value\":0.1},\"fill_color\":{\"value\":\"seagreen\"},\"left\":{\"field\":\"left\"},\"line_alpha\":{\"value\":0.1},\"line_color\":{\"value\":\"seagreen\"},\"right\":{\"field\":\"right\"},\"top\":{\"field\":\"top\"}},\"id\":\"1479\",\"type\":\"Quad\"},{\"attributes\":{},\"id\":\"1454\",\"type\":\"BasicTicker\"},{\"attributes\":{},\"id\":\"1459\",\"type\":\"BasicTicker\"},{\"attributes\":{\"data_source\":{\"id\":\"1475\",\"type\":\"ColumnDataSource\"},\"glyph\":{\"id\":\"1478\",\"type\":\"Quad\"},\"hover_glyph\":null,\"muted_glyph\":{\"id\":\"1480\",\"type\":\"Quad\"},\"nonselection_glyph\":{\"id\":\"1479\",\"type\":\"Quad\"},\"selection_glyph\":null,\"view\":{\"id\":\"1482\",\"type\":\"CDSView\"}},\"id\":\"1481\",\"type\":\"GlyphRenderer\"},{\"attributes\":{},\"id\":\"1449\",\"type\":\"LinearScale\"},{\"attributes\":{\"dimension\":1,\"grid_line_color\":null,\"ticker\":{\"id\":\"1459\",\"type\":\"BasicTicker\"}},\"id\":\"1462\",\"type\":\"Grid\"},{\"attributes\":{},\"id\":\"1467\",\"type\":\"ResetTool\"},{\"attributes\":{},\"id\":\"1451\",\"type\":\"LinearScale\"},{\"attributes\":{},\"id\":\"1464\",\"type\":\"PanTool\"},{\"attributes\":{\"source\":{\"id\":\"1475\",\"type\":\"ColumnDataSource\"}},\"id\":\"1482\",\"type\":\"CDSView\"},{\"attributes\":{},\"id\":\"1476\",\"type\":\"Selection\"},{\"attributes\":{\"axis_label\":\"spend\",\"bounds\":\"auto\",\"formatter\":{\"id\":\"1483\",\"type\":\"BasicTickFormatter\"},\"major_label_orientation\":\"horizontal\",\"ticker\":{\"id\":\"1454\",\"type\":\"BasicTicker\"}},\"id\":\"1453\",\"type\":\"LinearAxis\"},{\"attributes\":{\"bottom_units\":\"screen\",\"fill_alpha\":{\"value\":0.5},\"fill_color\":{\"value\":\"lightgrey\"},\"left_units\":\"screen\",\"level\":\"overlay\",\"line_alpha\":{\"value\":1.0},\"line_color\":{\"value\":\"black\"},\"line_dash\":[4,4],\"line_width\":{\"value\":2},\"render_mode\":\"css\",\"right_units\":\"screen\",\"top_units\":\"screen\"},\"id\":\"1492\",\"type\":\"BoxAnnotation\"},{\"attributes\":{\"callback\":null,\"renderers\":[{\"id\":\"1481\",\"type\":\"GlyphRenderer\"}],\"tags\":[\"hv_created\"],\"tooltips\":[[\"spend\",\"@{spend}\"],[\"Count\",\"@{spend_count}\"]]},\"id\":\"1443\",\"type\":\"HoverTool\"},{\"attributes\":{},\"id\":\"1463\",\"type\":\"SaveTool\"},{\"attributes\":{\"axis_label\":\"\",\"bounds\":\"auto\",\"formatter\":{\"id\":\"1485\",\"type\":\"BasicTickFormatter\"},\"major_label_orientation\":\"horizontal\",\"ticker\":{\"id\":\"1459\",\"type\":\"BasicTicker\"}},\"id\":\"1458\",\"type\":\"LinearAxis\"},{\"attributes\":{},\"id\":\"1465\",\"type\":\"WheelZoomTool\"},{\"attributes\":{\"text\":\"\",\"text_color\":{\"value\":\"black\"},\"text_font_size\":{\"value\":\"12pt\"}},\"id\":\"1445\",\"type\":\"Title\"},{\"attributes\":{\"overlay\":{\"id\":\"1492\",\"type\":\"BoxAnnotation\"}},\"id\":\"1466\",\"type\":\"BoxZoomTool\"},{\"attributes\":{\"bottom\":{\"value\":0},\"fill_alpha\":{\"value\":0.2},\"fill_color\":{\"value\":\"seagreen\"},\"left\":{\"field\":\"left\"},\"line_alpha\":{\"value\":0.2},\"line_color\":{\"value\":\"seagreen\"},\"right\":{\"field\":\"right\"},\"top\":{\"field\":\"top\"}},\"id\":\"1480\",\"type\":\"Quad\"}],\"root_ids\":[\"1444\"]},\"title\":\"Bokeh Application\",\"version\":\"1.3.4\"}};\n",
       "  var render_items = [{\"docid\":\"f985d251-6215-4107-8745-70e51c775c65\",\"roots\":{\"1444\":\"eca612a9-3e5f-4ad4-88f5-f13be62b6875\"}}];\n",
       "  root.Bokeh.embed.embed_items_notebook(docs_json, render_items);\n",
       "\n",
       "  }\n",
       "  if (root.Bokeh !== undefined) {\n",
       "    embed_document(root);\n",
       "  } else {\n",
       "    var attempts = 0;\n",
       "    var timer = setInterval(function(root) {\n",
       "      if (root.Bokeh !== undefined) {\n",
       "        embed_document(root);\n",
       "        clearInterval(timer);\n",
       "      }\n",
       "      attempts++;\n",
       "      if (attempts > 100) {\n",
       "        console.log(\"Bokeh: ERROR: Unable to run BokehJS code because BokehJS library is missing\");\n",
       "        clearInterval(timer);\n",
       "      }\n",
       "    }, 10, root)\n",
       "  }\n",
       "})(window);</script>"
      ],
      "text/plain": [
       ":Histogram   [spend]   (spend_count)"
      ]
     },
     "execution_count": 15,
     "metadata": {
      "application/vnd.holoviews_exec.v0+json": {
       "id": "1444"
      }
     },
     "output_type": "execute_result"
    }
   ],
   "source": [
    "# Histogram of log spend\n",
    "np.log(df[\"spend\"]).hvplot.hist(color=\"seagreen\", line_color=\"seagreen\", bins=50)"
   ]
  },
  {
   "cell_type": "code",
   "execution_count": 47,
   "metadata": {},
   "outputs": [
    {
     "data": {
      "text/plain": [
       "79.87540406319887"
      ]
     },
     "execution_count": 47,
     "metadata": {},
     "output_type": "execute_result"
    }
   ],
   "source": [
    "# Number of bootstrap samples to generate \n",
    "B = 1000\n",
    "# Capture the bootstrap means in a list\n",
    "mub = []\n",
    "\n",
    "for i in range(1, B):\n",
    "    # Using sklearn's bootstrap api to generate 10,000 instance bootstrap samples \n",
    "    sample = resample(df[\"spend\"], replace=True, n_samples=len(df))\n",
    "    # Calculate the means and append them to the blank mub list\n",
    "    mub.append(np.mean(sample))\n",
    "\n",
    "# Calculate the standard deviation of the boot-strapped means\n",
    "np.std(mub)"
   ]
  },
  {
   "cell_type": "code",
   "execution_count": 46,
   "metadata": {},
   "outputs": [
    {
     "data": {
      "application/vnd.holoviews_exec.v0+json": "",
      "text/html": [
       "<div id='1554' style='display: table; margin: 0 auto;'>\n",
       "\n",
       "\n",
       "\n",
       "\n",
       "\n",
       "  <div class=\"bk-root\" id=\"910018be-cbc5-4932-8e35-c6e2313486d6\" data-root-id=\"1554\"></div>\n",
       "</div>\n",
       "<script type=\"application/javascript\">(function(root) {\n",
       "  function embed_document(root) {\n",
       "    \n",
       "  var docs_json = {\"7753b159-06f3-4410-874f-25c52efeb74c\":{\"roots\":{\"references\":[{\"attributes\":{\"align\":null,\"below\":[{\"id\":\"1563\",\"type\":\"LinearAxis\"}],\"center\":[{\"id\":\"1567\",\"type\":\"Grid\"},{\"id\":\"1572\",\"type\":\"Grid\"}],\"left\":[{\"id\":\"1568\",\"type\":\"LinearAxis\"}],\"margin\":null,\"min_border_bottom\":10,\"min_border_left\":10,\"min_border_right\":10,\"min_border_top\":10,\"plot_height\":300,\"plot_width\":700,\"renderers\":[{\"id\":\"1591\",\"type\":\"GlyphRenderer\"}],\"sizing_mode\":\"fixed\",\"title\":{\"id\":\"1555\",\"type\":\"Title\"},\"toolbar\":{\"id\":\"1578\",\"type\":\"Toolbar\"},\"x_range\":{\"id\":\"1551\",\"type\":\"Range1d\"},\"x_scale\":{\"id\":\"1559\",\"type\":\"LinearScale\"},\"y_range\":{\"id\":\"1552\",\"type\":\"Range1d\"},\"y_scale\":{\"id\":\"1561\",\"type\":\"LinearScale\"}},\"id\":\"1554\",\"subtype\":\"Figure\",\"type\":\"Plot\"},{\"attributes\":{\"bottom_units\":\"screen\",\"fill_alpha\":{\"value\":0.5},\"fill_color\":{\"value\":\"lightgrey\"},\"left_units\":\"screen\",\"level\":\"overlay\",\"line_alpha\":{\"value\":1.0},\"line_color\":{\"value\":\"black\"},\"line_dash\":[4,4],\"line_width\":{\"value\":2},\"render_mode\":\"css\",\"right_units\":\"screen\",\"top_units\":\"screen\"},\"id\":\"1602\",\"type\":\"BoxAnnotation\"},{\"attributes\":{},\"id\":\"1577\",\"type\":\"ResetTool\"},{\"attributes\":{},\"id\":\"1573\",\"type\":\"SaveTool\"},{\"attributes\":{\"callback\":null,\"end\":124.0,\"reset_end\":124.0,\"reset_start\":0.0,\"tags\":[[[\"0_count\",\"Count\",null]]]},\"id\":\"1552\",\"type\":\"Range1d\"},{\"attributes\":{},\"id\":\"1575\",\"type\":\"WheelZoomTool\"},{\"attributes\":{\"source\":{\"id\":\"1585\",\"type\":\"ColumnDataSource\"}},\"id\":\"1592\",\"type\":\"CDSView\"},{\"attributes\":{\"active_drag\":\"auto\",\"active_inspect\":\"auto\",\"active_multi\":null,\"active_scroll\":\"auto\",\"active_tap\":\"auto\",\"tools\":[{\"id\":\"1553\",\"type\":\"HoverTool\"},{\"id\":\"1573\",\"type\":\"SaveTool\"},{\"id\":\"1574\",\"type\":\"PanTool\"},{\"id\":\"1575\",\"type\":\"WheelZoomTool\"},{\"id\":\"1576\",\"type\":\"BoxZoomTool\"},{\"id\":\"1577\",\"type\":\"ResetTool\"}]},\"id\":\"1578\",\"type\":\"Toolbar\"},{\"attributes\":{\"callback\":null,\"data\":{\"A_0\":{\"__ndarray__\":\"xr/PuCBqm0B4tHHE6sSbQCqpE9C0H5xA3J212356nECOklfnSNWcQECH+fISMJ1A8nub/tyKnUCkcD0Kp+WdQFZl3xVxQJ5ACFqBITubnkC5TiMtBfaeQGtDxTjPUJ9AHThnRJmrn0BolgSoMQOgQMCQ1a2WMKBAGoums/tdoEByhXe5YIugQMx/SL/FuKBAJHoZxSrmoEB+dOrKjxOhQA==\",\"dtype\":\"float64\",\"shape\":[20]},\"A_0_count\":[6,12,17,37,58,77,87,96,116,124,94,91,65,47,22,22,15,3,8,2],\"left\":{\"__ndarray__\":\"bcX+srs8m0AfuqC+hZebQNGuQspP8ptAg6Pk1RlNnEA1mIbh46ecQOeMKO2tAp1AmYHK+HddnUBLdmwEQridQP1qDhAME55Ar1+wG9ZtnkBgVFInoMieQBJJ9DJqI59AxD2WPjR+n0B2MjhK/tifQJQT7SrkGaBA7Q2+MElHoEBGCI82rnSgQJ8CYDwToqBA+PwwQnjPoEBR9wFI3fygQA==\",\"dtype\":\"float64\",\"shape\":[20]},\"right\":{\"__ndarray__\":\"H7qgvoWXm0DRrkLKT/KbQIOj5NUZTZxANZiG4eOnnEDnjCjtrQKdQJmByvh3XZ1AS3ZsBEK4nUD9ag4QDBOeQK9fsBvWbZ5AYFRSJ6DInkASSfQyaiOfQMQ9lj40fp9AdjI4Sv7Yn0CUE+0q5BmgQO0NvjBJR6BARgiPNq50oECfAmA8E6KgQPj8MEJ4z6BAUfcBSN38oECq8dJNQiqhQA==\",\"dtype\":\"float64\",\"shape\":[20]},\"top\":[6,12,17,37,58,77,87,96,116,124,94,91,65,47,22,22,15,3,8,2]},\"selected\":{\"id\":\"1586\",\"type\":\"Selection\"},\"selection_policy\":{\"id\":\"1604\",\"type\":\"UnionRenderers\"}},\"id\":\"1585\",\"type\":\"ColumnDataSource\"},{\"attributes\":{\"bottom\":{\"value\":0},\"fill_alpha\":{\"value\":0.2},\"fill_color\":{\"value\":\"#1f77b3\"},\"left\":{\"field\":\"left\"},\"line_alpha\":{\"value\":0.2},\"line_color\":{\"value\":\"black\"},\"right\":{\"field\":\"right\"},\"top\":{\"field\":\"top\"}},\"id\":\"1590\",\"type\":\"Quad\"},{\"attributes\":{\"axis_label\":\"\",\"bounds\":\"auto\",\"formatter\":{\"id\":\"1595\",\"type\":\"BasicTickFormatter\"},\"major_label_orientation\":\"horizontal\",\"ticker\":{\"id\":\"1569\",\"type\":\"BasicTicker\"}},\"id\":\"1568\",\"type\":\"LinearAxis\"},{\"attributes\":{\"data_source\":{\"id\":\"1585\",\"type\":\"ColumnDataSource\"},\"glyph\":{\"id\":\"1588\",\"type\":\"Quad\"},\"hover_glyph\":null,\"muted_glyph\":{\"id\":\"1590\",\"type\":\"Quad\"},\"nonselection_glyph\":{\"id\":\"1589\",\"type\":\"Quad\"},\"selection_glyph\":null,\"view\":{\"id\":\"1592\",\"type\":\"CDSView\"}},\"id\":\"1591\",\"type\":\"GlyphRenderer\"},{\"attributes\":{\"axis_label\":\"0\",\"bounds\":\"auto\",\"formatter\":{\"id\":\"1593\",\"type\":\"BasicTickFormatter\"},\"major_label_orientation\":\"horizontal\",\"ticker\":{\"id\":\"1564\",\"type\":\"BasicTicker\"}},\"id\":\"1563\",\"type\":\"LinearAxis\"},{\"attributes\":{},\"id\":\"1574\",\"type\":\"PanTool\"},{\"attributes\":{},\"id\":\"1595\",\"type\":\"BasicTickFormatter\"},{\"attributes\":{\"grid_line_color\":null,\"ticker\":{\"id\":\"1564\",\"type\":\"BasicTicker\"}},\"id\":\"1567\",\"type\":\"Grid\"},{\"attributes\":{\"callback\":null,\"end\":2197.1295,\"reset_end\":2197.1295,\"reset_start\":1743.1833,\"start\":1743.1833,\"tags\":[[[\"0\",\"0\",null]]]},\"id\":\"1551\",\"type\":\"Range1d\"},{\"attributes\":{\"bottom\":{\"value\":0},\"fill_alpha\":{\"value\":0.1},\"fill_color\":{\"value\":\"#1f77b3\"},\"left\":{\"field\":\"left\"},\"line_alpha\":{\"value\":0.1},\"line_color\":{\"value\":\"black\"},\"right\":{\"field\":\"right\"},\"top\":{\"field\":\"top\"}},\"id\":\"1589\",\"type\":\"Quad\"},{\"attributes\":{\"bottom\":{\"value\":0},\"fill_color\":{\"value\":\"#1f77b3\"},\"left\":{\"field\":\"left\"},\"right\":{\"field\":\"right\"},\"top\":{\"field\":\"top\"}},\"id\":\"1588\",\"type\":\"Quad\"},{\"attributes\":{},\"id\":\"1604\",\"type\":\"UnionRenderers\"},{\"attributes\":{\"dimension\":1,\"grid_line_color\":null,\"ticker\":{\"id\":\"1569\",\"type\":\"BasicTicker\"}},\"id\":\"1572\",\"type\":\"Grid\"},{\"attributes\":{},\"id\":\"1559\",\"type\":\"LinearScale\"},{\"attributes\":{},\"id\":\"1593\",\"type\":\"BasicTickFormatter\"},{\"attributes\":{},\"id\":\"1561\",\"type\":\"LinearScale\"},{\"attributes\":{\"text\":\"\",\"text_color\":{\"value\":\"black\"},\"text_font_size\":{\"value\":\"12pt\"}},\"id\":\"1555\",\"type\":\"Title\"},{\"attributes\":{},\"id\":\"1586\",\"type\":\"Selection\"},{\"attributes\":{\"overlay\":{\"id\":\"1602\",\"type\":\"BoxAnnotation\"}},\"id\":\"1576\",\"type\":\"BoxZoomTool\"},{\"attributes\":{},\"id\":\"1564\",\"type\":\"BasicTicker\"},{\"attributes\":{},\"id\":\"1569\",\"type\":\"BasicTicker\"},{\"attributes\":{\"callback\":null,\"renderers\":[{\"id\":\"1591\",\"type\":\"GlyphRenderer\"}],\"tags\":[\"hv_created\"],\"tooltips\":[[\"0\",\"@{A_0}\"],[\"Count\",\"@{A_0_count}\"]]},\"id\":\"1553\",\"type\":\"HoverTool\"}],\"root_ids\":[\"1554\"]},\"title\":\"Bokeh Application\",\"version\":\"1.3.4\"}};\n",
       "  var render_items = [{\"docid\":\"7753b159-06f3-4410-874f-25c52efeb74c\",\"roots\":{\"1554\":\"910018be-cbc5-4932-8e35-c6e2313486d6\"}}];\n",
       "  root.Bokeh.embed.embed_items_notebook(docs_json, render_items);\n",
       "\n",
       "  }\n",
       "  if (root.Bokeh !== undefined) {\n",
       "    embed_document(root);\n",
       "  } else {\n",
       "    var attempts = 0;\n",
       "    var timer = setInterval(function(root) {\n",
       "      if (root.Bokeh !== undefined) {\n",
       "        embed_document(root);\n",
       "        clearInterval(timer);\n",
       "      }\n",
       "      attempts++;\n",
       "      if (attempts > 100) {\n",
       "        console.log(\"Bokeh: ERROR: Unable to run BokehJS code because BokehJS library is missing\");\n",
       "        clearInterval(timer);\n",
       "      }\n",
       "    }, 10, root)\n",
       "  }\n",
       "})(window);</script>"
      ],
      "text/plain": [
       ":Histogram   [0]   (0_count)"
      ]
     },
     "execution_count": 46,
     "metadata": {
      "application/vnd.holoviews_exec.v0+json": {
       "id": "1554"
      }
     },
     "output_type": "execute_result"
    }
   ],
   "source": [
    "# Histogram of the bootstrapped means\n",
    "pd.Series(mub).hvplot.hist()"
   ]
  },
  {
   "cell_type": "code",
   "execution_count": null,
   "metadata": {},
   "outputs": [],
   "source": []
  }
 ],
 "metadata": {
  "kernelspec": {
   "display_name": "Python 3",
   "language": "python",
   "name": "python3"
  },
  "language_info": {
   "codemirror_mode": {
    "name": "ipython",
    "version": 3
   },
   "file_extension": ".py",
   "mimetype": "text/x-python",
   "name": "python",
   "nbconvert_exporter": "python",
   "pygments_lexer": "ipython3",
   "version": "3.7.4"
  }
 },
 "nbformat": 4,
 "nbformat_minor": 2
}
