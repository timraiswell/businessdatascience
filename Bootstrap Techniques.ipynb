{
 "cells": [
  {
   "cell_type": "markdown",
   "metadata": {},
   "source": [
    "### Chapter 1: Uncertainty\n",
    "#### The Bootstrap"
   ]
  },
  {
   "cell_type": "code",
   "execution_count": 10,
   "metadata": {},
   "outputs": [],
   "source": [
    "# scikit's bootstrap functionality\n",
    "from sklearn.utils import resample\n",
    "import pandas as pd\n",
    "# Useful javascript plotting API for pandas that improves on matplotlib's visualization.\n",
    "#!pip install hvplot\n",
    "import hvplot.pandas\n",
    "import numpy as np"
   ]
  },
  {
   "cell_type": "code",
   "execution_count": 4,
   "metadata": {},
   "outputs": [],
   "source": [
    "# Ingest the web browsers data\n",
    "df = pd.read_csv(\"./examples/web-browsers.csv\")"
   ]
  },
  {
   "cell_type": "code",
   "execution_count": 5,
   "metadata": {},
   "outputs": [
    {
     "data": {
      "text/html": [
       "<div>\n",
       "<style scoped>\n",
       "    .dataframe tbody tr th:only-of-type {\n",
       "        vertical-align: middle;\n",
       "    }\n",
       "\n",
       "    .dataframe tbody tr th {\n",
       "        vertical-align: top;\n",
       "    }\n",
       "\n",
       "    .dataframe thead th {\n",
       "        text-align: right;\n",
       "    }\n",
       "</style>\n",
       "<table border=\"1\" class=\"dataframe\">\n",
       "  <thead>\n",
       "    <tr style=\"text-align: right;\">\n",
       "      <th></th>\n",
       "      <th>id</th>\n",
       "      <th>anychildren</th>\n",
       "      <th>broadband</th>\n",
       "      <th>hispanic</th>\n",
       "      <th>race</th>\n",
       "      <th>region</th>\n",
       "      <th>spend</th>\n",
       "    </tr>\n",
       "  </thead>\n",
       "  <tbody>\n",
       "    <tr>\n",
       "      <td>0</td>\n",
       "      <td>1</td>\n",
       "      <td>0</td>\n",
       "      <td>1</td>\n",
       "      <td>0</td>\n",
       "      <td>white</td>\n",
       "      <td>MW</td>\n",
       "      <td>424</td>\n",
       "    </tr>\n",
       "    <tr>\n",
       "      <td>1</td>\n",
       "      <td>2</td>\n",
       "      <td>1</td>\n",
       "      <td>1</td>\n",
       "      <td>0</td>\n",
       "      <td>white</td>\n",
       "      <td>MW</td>\n",
       "      <td>2335</td>\n",
       "    </tr>\n",
       "    <tr>\n",
       "      <td>2</td>\n",
       "      <td>3</td>\n",
       "      <td>1</td>\n",
       "      <td>1</td>\n",
       "      <td>0</td>\n",
       "      <td>white</td>\n",
       "      <td>MW</td>\n",
       "      <td>279</td>\n",
       "    </tr>\n",
       "    <tr>\n",
       "      <td>3</td>\n",
       "      <td>4</td>\n",
       "      <td>0</td>\n",
       "      <td>1</td>\n",
       "      <td>0</td>\n",
       "      <td>white</td>\n",
       "      <td>MW</td>\n",
       "      <td>829</td>\n",
       "    </tr>\n",
       "    <tr>\n",
       "      <td>4</td>\n",
       "      <td>5</td>\n",
       "      <td>0</td>\n",
       "      <td>1</td>\n",
       "      <td>0</td>\n",
       "      <td>white</td>\n",
       "      <td>S</td>\n",
       "      <td>221</td>\n",
       "    </tr>\n",
       "  </tbody>\n",
       "</table>\n",
       "</div>"
      ],
      "text/plain": [
       "   id  anychildren  broadband  hispanic   race region  spend\n",
       "0   1            0          1         0  white     MW    424\n",
       "1   2            1          1         0  white     MW   2335\n",
       "2   3            1          1         0  white     MW    279\n",
       "3   4            0          1         0  white     MW    829\n",
       "4   5            0          1         0  white      S    221"
      ]
     },
     "execution_count": 5,
     "metadata": {},
     "output_type": "execute_result"
    }
   ],
   "source": [
    "df.head()"
   ]
  },
  {
   "cell_type": "code",
   "execution_count": 6,
   "metadata": {},
   "outputs": [
    {
     "name": "stdout",
     "output_type": "stream",
     "text": [
      "<class 'pandas.core.frame.DataFrame'>\n",
      "RangeIndex: 10000 entries, 0 to 9999\n",
      "Data columns (total 7 columns):\n",
      "id             10000 non-null int64\n",
      "anychildren    10000 non-null int64\n",
      "broadband      10000 non-null int64\n",
      "hispanic       10000 non-null int64\n",
      "race           10000 non-null object\n",
      "region         10000 non-null object\n",
      "spend          10000 non-null int64\n",
      "dtypes: int64(5), object(2)\n",
      "memory usage: 547.0+ KB\n"
     ]
    }
   ],
   "source": [
    "df.info()"
   ]
  },
  {
   "cell_type": "code",
   "execution_count": 28,
   "metadata": {},
   "outputs": [
    {
     "name": "stdout",
     "output_type": "stream",
     "text": [
      "Mean spend is 1946.44 and the variance is 64612792.26.\n"
     ]
    }
   ],
   "source": [
    "# Mean spend value\n",
    "mean = np.mean(df[\"spend\"])\n",
    "variance = np.var(df[\"spend\"])\n",
    "\n",
    "print(\"Mean spend is {} and the variance is {}.\".format(round(mean, 2), round(variance, 2)))"
   ]
  },
  {
   "cell_type": "code",
   "execution_count": 15,
   "metadata": {},
   "outputs": [
    {
     "data": {
      "application/vnd.holoviews_exec.v0+json": "",
      "text/html": [
       "<div id='1444' style='display: table; margin: 0 auto;'>\n",
       "\n",
       "\n",
       "\n",
       "\n",
       "\n",
       "  <div class=\"bk-root\" id=\"eca612a9-3e5f-4ad4-88f5-f13be62b6875\" data-root-id=\"1444\"></div>\n",
       "</div>\n",
       "<script type=\"application/javascript\">(function(root) {\n",
       "  function embed_document(root) {\n",
       "    \n",
       "  var docs_json = {\"f985d251-6215-4107-8745-70e51c775c65\":{\"roots\":{\"references\":[{\"attributes\":{\"align\":null,\"below\":[{\"id\":\"1453\",\"type\":\"LinearAxis\"}],\"center\":[{\"id\":\"1457\",\"type\":\"Grid\"},{\"id\":\"1462\",\"type\":\"Grid\"}],\"left\":[{\"id\":\"1458\",\"type\":\"LinearAxis\"}],\"margin\":null,\"min_border_bottom\":10,\"min_border_left\":10,\"min_border_right\":10,\"min_border_top\":10,\"plot_height\":300,\"plot_width\":700,\"renderers\":[{\"id\":\"1481\",\"type\":\"GlyphRenderer\"}],\"sizing_mode\":\"fixed\",\"title\":{\"id\":\"1445\",\"type\":\"Title\"},\"toolbar\":{\"id\":\"1468\",\"type\":\"Toolbar\"},\"x_range\":{\"id\":\"1441\",\"type\":\"Range1d\"},\"x_scale\":{\"id\":\"1449\",\"type\":\"LinearScale\"},\"y_range\":{\"id\":\"1442\",\"type\":\"Range1d\"},\"y_scale\":{\"id\":\"1451\",\"type\":\"LinearScale\"}},\"id\":\"1444\",\"subtype\":\"Figure\",\"type\":\"Plot\"},{\"attributes\":{\"callback\":null,\"data\":{\"left\":{\"__ndarray__\":\"AAAAAAAAAAD+WvAd6YPQP/5a8B3pg+A/fYjorN3F6D/+WvAd6YPwP75xbGXjpPQ/fYjorN3F+D88n2T01+b8P/5a8B3pgwBAXmauQWaUAkC+cWxl46QEQB19KolgtQZAfYjorN3FCEDdk6bQWtYKQDyfZPTX5gxAnKoiGFX3DkD+WvAd6YMQQK5gz68njBFAXmauQWaUEkAObI3TpJwTQL5xbGXjpBRAbXdL9yGtFUAdfSqJYLUWQM2CCRufvRdAfYjorN3FGEAtjsc+HM4ZQN2TptBa1hpAjZmFYpneG0A8n2T01+YcQOykQ4YW7x1AnKoiGFX3HkBMsAGqk/8fQP5a8B3pgyBA1t3fZggIIUCuYM+vJ4whQIbjvvhGECJAXmauQWaUIkA26Z2KhRgjQA5sjdOknCNA5u58HMQgJEC+cWxl46QkQJX0W64CKSVAbXdL9yGtJUBF+jpAQTEmQB19KolgtSZA9f8Z0n85J0DNggkbn70nQKUF+WO+QShAfYjorN3FKEBVC9j1/EkpQA==\",\"dtype\":\"float64\",\"shape\":[50]},\"right\":{\"__ndarray__\":\"/lrwHemD0D/+WvAd6YPgP32I6Kzdxeg//lrwHemD8D++cWxl46T0P32I6Kzdxfg/PJ9k9Nfm/D/+WvAd6YMAQF5mrkFmlAJAvnFsZeOkBEAdfSqJYLUGQH2I6KzdxQhA3ZOm0FrWCkA8n2T01+YMQJyqIhhV9w5A/lrwHemDEECuYM+vJ4wRQF5mrkFmlBJADmyN06ScE0C+cWxl46QUQG13S/chrRVAHX0qiWC1FkDNggkbn70XQH2I6KzdxRhALY7HPhzOGUDdk6bQWtYaQI2ZhWKZ3htAPJ9k9NfmHEDspEOGFu8dQJyqIhhV9x5ATLABqpP/H0D+WvAd6YMgQNbd32YICCFArmDPryeMIUCG4774RhAiQF5mrkFmlCJANumdioUYI0AObI3TpJwjQObufBzEICRAvnFsZeOkJECV9FuuAiklQG13S/chrSVARfo6QEExJkAdfSqJYLUmQPX/GdJ/OSdAzYIJG5+9J0ClBfljvkEoQH2I6KzdxShAVQvY9fxJKUAtjsc+HM4pQA==\",\"dtype\":\"float64\",\"shape\":[50]},\"spend\":{\"__ndarray__\":\"/lrwHemDwD99iOis3cXYP75xbGXjpOQ/PJ9k9Nfm7D9eZq5BZpTyPx59KolgtfY/3JOm0FrW+j+cqiIYVff+P65gz68njAFADmyN06ScA0Bud0v3Ia0FQM2CCRufvQdALY7HPhzOCUCMmYVimd4LQOykQ4YW7w1ATLABqpP/D0DW3d9mCAgRQIbjvvhGEBJANumdioUYE0Dm7nwcxCAUQJb0W64CKRVARfo6QEExFkD1/xnSfzkXQKUF+WO+QRhAVQvY9fxJGUAFEbeHO1IaQLUWlhl6WhtAZBx1q7hiHEAUIlQ992odQMQnM881cx5AdC0SYXR7H0CSmXh52UEgQGocaML4xSBAQp9XCxhKIUAaIkdUN84hQPKkNp1WUiJAyicm5nXWIkCiqhUvlVojQHotBXi03iNAUrD0wNNiJEAqM+QJ8+YkQAG201ISayVA2TjDmzHvJUCxu7LkUHMmQIk+oi1w9yZAYcGRdo97J0A5RIG/rv8nQBHHcAjOgyhA6UlgUe0HKUDBzE+aDIwpQA==\",\"dtype\":\"float64\",\"shape\":[50]},\"spend_count\":[1,0,2,0,6,3,18,3,55,48,106,171,126,183,193,281,297,325,357,425,497,571,612,615,635,621,567,584,495,450,415,318,239,218,162,121,94,63,36,22,23,17,7,3,5,5,2,0,2,1],\"top\":[1,0,2,0,6,3,18,3,55,48,106,171,126,183,193,281,297,325,357,425,497,571,612,615,635,621,567,584,495,450,415,318,239,218,162,121,94,63,36,22,23,17,7,3,5,5,2,0,2,1]},\"selected\":{\"id\":\"1476\",\"type\":\"Selection\"},\"selection_policy\":{\"id\":\"1494\",\"type\":\"UnionRenderers\"}},\"id\":\"1475\",\"type\":\"ColumnDataSource\"},{\"attributes\":{},\"id\":\"1483\",\"type\":\"BasicTickFormatter\"},{\"attributes\":{\"grid_line_color\":null,\"ticker\":{\"id\":\"1454\",\"type\":\"BasicTicker\"}},\"id\":\"1457\",\"type\":\"Grid\"},{\"attributes\":{},\"id\":\"1485\",\"type\":\"BasicTickFormatter\"},{\"attributes\":{\"callback\":null,\"end\":12.902559244022166,\"reset_end\":12.902559244022166,\"reset_start\":0.0,\"tags\":[[[\"spend\",\"spend\",null]]]},\"id\":\"1441\",\"type\":\"Range1d\"},{\"attributes\":{\"callback\":null,\"end\":635.0,\"reset_end\":635.0,\"reset_start\":0.0,\"tags\":[[[\"spend_count\",\"Count\",null]]]},\"id\":\"1442\",\"type\":\"Range1d\"},{\"attributes\":{},\"id\":\"1494\",\"type\":\"UnionRenderers\"},{\"attributes\":{\"bottom\":{\"value\":0},\"fill_color\":{\"value\":\"seagreen\"},\"left\":{\"field\":\"left\"},\"line_color\":{\"value\":\"seagreen\"},\"right\":{\"field\":\"right\"},\"top\":{\"field\":\"top\"}},\"id\":\"1478\",\"type\":\"Quad\"},{\"attributes\":{\"active_drag\":\"auto\",\"active_inspect\":\"auto\",\"active_multi\":null,\"active_scroll\":\"auto\",\"active_tap\":\"auto\",\"tools\":[{\"id\":\"1443\",\"type\":\"HoverTool\"},{\"id\":\"1463\",\"type\":\"SaveTool\"},{\"id\":\"1464\",\"type\":\"PanTool\"},{\"id\":\"1465\",\"type\":\"WheelZoomTool\"},{\"id\":\"1466\",\"type\":\"BoxZoomTool\"},{\"id\":\"1467\",\"type\":\"ResetTool\"}]},\"id\":\"1468\",\"type\":\"Toolbar\"},{\"attributes\":{\"bottom\":{\"value\":0},\"fill_alpha\":{\"value\":0.1},\"fill_color\":{\"value\":\"seagreen\"},\"left\":{\"field\":\"left\"},\"line_alpha\":{\"value\":0.1},\"line_color\":{\"value\":\"seagreen\"},\"right\":{\"field\":\"right\"},\"top\":{\"field\":\"top\"}},\"id\":\"1479\",\"type\":\"Quad\"},{\"attributes\":{},\"id\":\"1454\",\"type\":\"BasicTicker\"},{\"attributes\":{},\"id\":\"1459\",\"type\":\"BasicTicker\"},{\"attributes\":{\"data_source\":{\"id\":\"1475\",\"type\":\"ColumnDataSource\"},\"glyph\":{\"id\":\"1478\",\"type\":\"Quad\"},\"hover_glyph\":null,\"muted_glyph\":{\"id\":\"1480\",\"type\":\"Quad\"},\"nonselection_glyph\":{\"id\":\"1479\",\"type\":\"Quad\"},\"selection_glyph\":null,\"view\":{\"id\":\"1482\",\"type\":\"CDSView\"}},\"id\":\"1481\",\"type\":\"GlyphRenderer\"},{\"attributes\":{},\"id\":\"1449\",\"type\":\"LinearScale\"},{\"attributes\":{\"dimension\":1,\"grid_line_color\":null,\"ticker\":{\"id\":\"1459\",\"type\":\"BasicTicker\"}},\"id\":\"1462\",\"type\":\"Grid\"},{\"attributes\":{},\"id\":\"1467\",\"type\":\"ResetTool\"},{\"attributes\":{},\"id\":\"1451\",\"type\":\"LinearScale\"},{\"attributes\":{},\"id\":\"1464\",\"type\":\"PanTool\"},{\"attributes\":{\"source\":{\"id\":\"1475\",\"type\":\"ColumnDataSource\"}},\"id\":\"1482\",\"type\":\"CDSView\"},{\"attributes\":{},\"id\":\"1476\",\"type\":\"Selection\"},{\"attributes\":{\"axis_label\":\"spend\",\"bounds\":\"auto\",\"formatter\":{\"id\":\"1483\",\"type\":\"BasicTickFormatter\"},\"major_label_orientation\":\"horizontal\",\"ticker\":{\"id\":\"1454\",\"type\":\"BasicTicker\"}},\"id\":\"1453\",\"type\":\"LinearAxis\"},{\"attributes\":{\"bottom_units\":\"screen\",\"fill_alpha\":{\"value\":0.5},\"fill_color\":{\"value\":\"lightgrey\"},\"left_units\":\"screen\",\"level\":\"overlay\",\"line_alpha\":{\"value\":1.0},\"line_color\":{\"value\":\"black\"},\"line_dash\":[4,4],\"line_width\":{\"value\":2},\"render_mode\":\"css\",\"right_units\":\"screen\",\"top_units\":\"screen\"},\"id\":\"1492\",\"type\":\"BoxAnnotation\"},{\"attributes\":{\"callback\":null,\"renderers\":[{\"id\":\"1481\",\"type\":\"GlyphRenderer\"}],\"tags\":[\"hv_created\"],\"tooltips\":[[\"spend\",\"@{spend}\"],[\"Count\",\"@{spend_count}\"]]},\"id\":\"1443\",\"type\":\"HoverTool\"},{\"attributes\":{},\"id\":\"1463\",\"type\":\"SaveTool\"},{\"attributes\":{\"axis_label\":\"\",\"bounds\":\"auto\",\"formatter\":{\"id\":\"1485\",\"type\":\"BasicTickFormatter\"},\"major_label_orientation\":\"horizontal\",\"ticker\":{\"id\":\"1459\",\"type\":\"BasicTicker\"}},\"id\":\"1458\",\"type\":\"LinearAxis\"},{\"attributes\":{},\"id\":\"1465\",\"type\":\"WheelZoomTool\"},{\"attributes\":{\"text\":\"\",\"text_color\":{\"value\":\"black\"},\"text_font_size\":{\"value\":\"12pt\"}},\"id\":\"1445\",\"type\":\"Title\"},{\"attributes\":{\"overlay\":{\"id\":\"1492\",\"type\":\"BoxAnnotation\"}},\"id\":\"1466\",\"type\":\"BoxZoomTool\"},{\"attributes\":{\"bottom\":{\"value\":0},\"fill_alpha\":{\"value\":0.2},\"fill_color\":{\"value\":\"seagreen\"},\"left\":{\"field\":\"left\"},\"line_alpha\":{\"value\":0.2},\"line_color\":{\"value\":\"seagreen\"},\"right\":{\"field\":\"right\"},\"top\":{\"field\":\"top\"}},\"id\":\"1480\",\"type\":\"Quad\"}],\"root_ids\":[\"1444\"]},\"title\":\"Bokeh Application\",\"version\":\"1.3.4\"}};\n",
       "  var render_items = [{\"docid\":\"f985d251-6215-4107-8745-70e51c775c65\",\"roots\":{\"1444\":\"eca612a9-3e5f-4ad4-88f5-f13be62b6875\"}}];\n",
       "  root.Bokeh.embed.embed_items_notebook(docs_json, render_items);\n",
       "\n",
       "  }\n",
       "  if (root.Bokeh !== undefined) {\n",
       "    embed_document(root);\n",
       "  } else {\n",
       "    var attempts = 0;\n",
       "    var timer = setInterval(function(root) {\n",
       "      if (root.Bokeh !== undefined) {\n",
       "        embed_document(root);\n",
       "        clearInterval(timer);\n",
       "      }\n",
       "      attempts++;\n",
       "      if (attempts > 100) {\n",
       "        console.log(\"Bokeh: ERROR: Unable to run BokehJS code because BokehJS library is missing\");\n",
       "        clearInterval(timer);\n",
       "      }\n",
       "    }, 10, root)\n",
       "  }\n",
       "})(window);</script>"
      ],
      "text/plain": [
       ":Histogram   [spend]   (spend_count)"
      ]
     },
     "execution_count": 15,
     "metadata": {
      "application/vnd.holoviews_exec.v0+json": {
       "id": "1444"
      }
     },
     "output_type": "execute_result"
    }
   ],
   "source": [
    "# Histogram of log spend\n",
    "np.log(df[\"spend\"]).hvplot.hist(color=\"seagreen\", line_color=\"seagreen\", bins=50)"
   ]
  },
  {
   "cell_type": "code",
   "execution_count": 48,
   "metadata": {},
   "outputs": [
    {
     "data": {
      "text/plain": [
       "79.3937078566008"
      ]
     },
     "execution_count": 48,
     "metadata": {},
     "output_type": "execute_result"
    }
   ],
   "source": [
    "# Number of bootstrap samples to generate\n",
    "B = 1000\n",
    "# Capture the bootstrap means in a list\n",
    "mub = []\n",
    "\n",
    "for i in range(1, B):\n",
    "    # Using sklearn's bootstrap api to generate 10,000 instance bootstrap samples\n",
    "    sample = resample(df[\"spend\"], replace=True, n_samples=len(df))\n",
    "    # Calculate the means and append them to the blank mub list\n",
    "    mub.append(np.mean(sample))\n",
    "\n",
    "# Calculate the standard deviation of the boot-strapped means\n",
    "np.std(mub)"
   ]
  },
  {
   "cell_type": "code",
   "execution_count": 51,
   "metadata": {},
   "outputs": [
    {
     "data": {
      "application/vnd.holoviews_exec.v0+json": "",
      "text/html": [
       "<div id='1884' style='display: table; margin: 0 auto;'>\n",
       "\n",
       "\n",
       "\n",
       "\n",
       "\n",
       "  <div class=\"bk-root\" id=\"a9f3e335-ba77-45d3-aa1b-a5549772a500\" data-root-id=\"1884\"></div>\n",
       "</div>\n",
       "<script type=\"application/javascript\">(function(root) {\n",
       "  function embed_document(root) {\n",
       "    \n",
       "  var docs_json = {\"f54db72b-8856-475c-8c38-68982a5e1cd2\":{\"roots\":{\"references\":[{\"attributes\":{\"align\":null,\"below\":[{\"id\":\"1893\",\"type\":\"LinearAxis\"}],\"center\":[{\"id\":\"1897\",\"type\":\"Grid\"},{\"id\":\"1902\",\"type\":\"Grid\"}],\"left\":[{\"id\":\"1898\",\"type\":\"LinearAxis\"}],\"margin\":null,\"min_border_bottom\":10,\"min_border_left\":10,\"min_border_right\":10,\"min_border_top\":10,\"plot_height\":300,\"plot_width\":700,\"renderers\":[{\"id\":\"1921\",\"type\":\"GlyphRenderer\"}],\"sizing_mode\":\"fixed\",\"title\":{\"id\":\"1885\",\"type\":\"Title\"},\"toolbar\":{\"id\":\"1908\",\"type\":\"Toolbar\"},\"x_range\":{\"id\":\"1881\",\"type\":\"Range1d\"},\"x_scale\":{\"id\":\"1889\",\"type\":\"LinearScale\"},\"y_range\":{\"id\":\"1882\",\"type\":\"Range1d\"},\"y_scale\":{\"id\":\"1891\",\"type\":\"LinearScale\"}},\"id\":\"1884\",\"subtype\":\"Figure\",\"type\":\"Plot\"},{\"attributes\":{\"active_drag\":\"auto\",\"active_inspect\":\"auto\",\"active_multi\":null,\"active_scroll\":\"auto\",\"active_tap\":\"auto\",\"tools\":[{\"id\":\"1883\",\"type\":\"HoverTool\"},{\"id\":\"1903\",\"type\":\"SaveTool\"},{\"id\":\"1904\",\"type\":\"PanTool\"},{\"id\":\"1905\",\"type\":\"WheelZoomTool\"},{\"id\":\"1906\",\"type\":\"BoxZoomTool\"},{\"id\":\"1907\",\"type\":\"ResetTool\"}]},\"id\":\"1908\",\"type\":\"Toolbar\"},{\"attributes\":{\"grid_line_color\":null,\"ticker\":{\"id\":\"1894\",\"type\":\"BasicTicker\"}},\"id\":\"1897\",\"type\":\"Grid\"},{\"attributes\":{},\"id\":\"1891\",\"type\":\"LinearScale\"},{\"attributes\":{\"source\":{\"id\":\"1915\",\"type\":\"ColumnDataSource\"}},\"id\":\"1922\",\"type\":\"CDSView\"},{\"attributes\":{},\"id\":\"1905\",\"type\":\"WheelZoomTool\"},{\"attributes\":{\"bottom\":{\"value\":0},\"fill_alpha\":{\"value\":0.2},\"fill_color\":{\"value\":\"dodgerblue\"},\"left\":{\"field\":\"left\"},\"line_alpha\":{\"value\":0.2},\"line_color\":{\"value\":\"dodgerblue\"},\"right\":{\"field\":\"right\"},\"top\":{\"field\":\"top\"}},\"id\":\"1920\",\"type\":\"Quad\"},{\"attributes\":{},\"id\":\"1889\",\"type\":\"LinearScale\"},{\"attributes\":{},\"id\":\"1923\",\"type\":\"BasicTickFormatter\"},{\"attributes\":{\"axis_label\":\"0\",\"bounds\":\"auto\",\"formatter\":{\"id\":\"1923\",\"type\":\"BasicTickFormatter\"},\"major_label_orientation\":\"horizontal\",\"ticker\":{\"id\":\"1894\",\"type\":\"BasicTicker\"}},\"id\":\"1893\",\"type\":\"LinearAxis\"},{\"attributes\":{\"dimension\":1,\"grid_line_color\":null,\"ticker\":{\"id\":\"1899\",\"type\":\"BasicTicker\"}},\"id\":\"1902\",\"type\":\"Grid\"},{\"attributes\":{\"overlay\":{\"id\":\"1932\",\"type\":\"BoxAnnotation\"}},\"id\":\"1906\",\"type\":\"BoxZoomTool\"},{\"attributes\":{},\"id\":\"1894\",\"type\":\"BasicTicker\"},{\"attributes\":{\"bottom\":{\"value\":0},\"fill_alpha\":{\"value\":0.1},\"fill_color\":{\"value\":\"dodgerblue\"},\"left\":{\"field\":\"left\"},\"line_alpha\":{\"value\":0.1},\"line_color\":{\"value\":\"dodgerblue\"},\"right\":{\"field\":\"right\"},\"top\":{\"field\":\"top\"}},\"id\":\"1919\",\"type\":\"Quad\"},{\"attributes\":{\"callback\":null,\"end\":2182.9896,\"reset_end\":2182.9896,\"reset_start\":1679.0187,\"start\":1679.0187,\"tags\":[[[\"0\",\"0\",null]]]},\"id\":\"1881\",\"type\":\"Range1d\"},{\"attributes\":{\"bottom\":{\"value\":0},\"fill_color\":{\"value\":\"dodgerblue\"},\"left\":{\"field\":\"left\"},\"line_color\":{\"value\":\"dodgerblue\"},\"right\":{\"field\":\"right\"},\"top\":{\"field\":\"top\"}},\"id\":\"1918\",\"type\":\"Quad\"},{\"attributes\":{},\"id\":\"1925\",\"type\":\"BasicTickFormatter\"},{\"attributes\":{},\"id\":\"1904\",\"type\":\"PanTool\"},{\"attributes\":{\"axis_label\":\"\",\"bounds\":\"auto\",\"formatter\":{\"id\":\"1925\",\"type\":\"BasicTickFormatter\"},\"major_label_orientation\":\"horizontal\",\"ticker\":{\"id\":\"1899\",\"type\":\"BasicTicker\"}},\"id\":\"1898\",\"type\":\"LinearAxis\"},{\"attributes\":{},\"id\":\"1903\",\"type\":\"SaveTool\"},{\"attributes\":{},\"id\":\"1916\",\"type\":\"Selection\"},{\"attributes\":{},\"id\":\"1899\",\"type\":\"BasicTicker\"},{\"attributes\":{\"callback\":null,\"end\":93.0,\"reset_end\":93.0,\"reset_start\":0.0,\"tags\":[[[\"0_count\",\"Count\",null]]]},\"id\":\"1882\",\"type\":\"Range1d\"},{\"attributes\":{\"callback\":null,\"data\":{\"A_0\":{\"__ndarray__\":\"yo6NQKxdmkDhKHl13qCaQPjCZKoQ5JpAEF1Q30Inm0Ao9zsUdWqbQD6RJ0mnrZtAVisTftnwm0Buxf6yCzScQIVf6uc9d5xAnPnVHHC6nEC0k8FRov2cQMwtrYbUQJ1A4seYuwaEnUD6YYTwOMedQBL8byVrCp5AKJZbWp1NnkBAMEePz5CeQFjKMsQB1J5Ab2Qe+TMXn0CG/gkuZlqfQJ6Y9WKYnZ9AtTLhl8rgn0BmZmZm/hGgQHIz3ICXM6BAfgBSmzBVoECKzce1yXagQJWaPdBimKBAoWez6vu5oECsNCkFldugQLgBnx8u/aBA\",\"dtype\":\"float64\",\"shape\":[30]},\"A_0_count\":[1,0,0,1,2,7,8,20,26,39,53,56,63,73,86,93,78,82,66,64,40,37,20,25,22,16,6,8,6,1],\"left\":{\"__ndarray__\":\"vsEXJhM8mkDVWwNbRX+aQO317o93wppABJDaxKkFm0AcKsb520ibQDPEsS4OjJtASl6dY0DPm0Bi+IiYchKcQHmSdM2kVZxAkSxgAteYnECoxks3CdycQMBgN2w7H51A1/oioW1inUDulA7Wn6WdQAYv+grS6J1AHcnlPwQsnkA0Y9F0Nm+eQEz9vKlosp5AY5eo3pr1nkB7MZQTzTifQJLLf0j/e59AqmVrfTG/n0DgfyvZMQGgQOxMofPKIqBA+BkXDmREoEAE54wo/WWgQA+0AkOWh6BAG4F4XS+poEAnTu53yMqgQDIbZJJh7KBA\",\"dtype\":\"float64\",\"shape\":[30]},\"right\":{\"__ndarray__\":\"1VsDW0V/mkDt9e6Pd8KaQASQ2sSpBZtAHCrG+dtIm0AzxLEuDoybQEpenWNAz5tAYviImHISnEB5knTNpFWcQJEsYALXmJxAqMZLNwncnEDAYDdsOx+dQNf6IqFtYp1A7pQO1p+lnUAGL/oK0uidQB3J5T8ELJ5ANGPRdDZvnkBM/bypaLKeQGOXqN6a9Z5AezGUE804n0CSy39I/3ufQKpla30xv59A4H8r2TEBoEDsTKHzyiKgQPgZFw5kRKBABOeMKP1loEAPtAJDloegQBuBeF0vqaBAJ07ud8jKoEAyG2SSYeygQD7o2az6DaFA\",\"dtype\":\"float64\",\"shape\":[30]},\"top\":[1,0,0,1,2,7,8,20,26,39,53,56,63,73,86,93,78,82,66,64,40,37,20,25,22,16,6,8,6,1]},\"selected\":{\"id\":\"1916\",\"type\":\"Selection\"},\"selection_policy\":{\"id\":\"1934\",\"type\":\"UnionRenderers\"}},\"id\":\"1915\",\"type\":\"ColumnDataSource\"},{\"attributes\":{\"data_source\":{\"id\":\"1915\",\"type\":\"ColumnDataSource\"},\"glyph\":{\"id\":\"1918\",\"type\":\"Quad\"},\"hover_glyph\":null,\"muted_glyph\":{\"id\":\"1920\",\"type\":\"Quad\"},\"nonselection_glyph\":{\"id\":\"1919\",\"type\":\"Quad\"},\"selection_glyph\":null,\"view\":{\"id\":\"1922\",\"type\":\"CDSView\"}},\"id\":\"1921\",\"type\":\"GlyphRenderer\"},{\"attributes\":{\"bottom_units\":\"screen\",\"fill_alpha\":{\"value\":0.5},\"fill_color\":{\"value\":\"lightgrey\"},\"left_units\":\"screen\",\"level\":\"overlay\",\"line_alpha\":{\"value\":1.0},\"line_color\":{\"value\":\"black\"},\"line_dash\":[4,4],\"line_width\":{\"value\":2},\"render_mode\":\"css\",\"right_units\":\"screen\",\"top_units\":\"screen\"},\"id\":\"1932\",\"type\":\"BoxAnnotation\"},{\"attributes\":{\"callback\":null,\"renderers\":[{\"id\":\"1921\",\"type\":\"GlyphRenderer\"}],\"tags\":[\"hv_created\"],\"tooltips\":[[\"0\",\"@{A_0}\"],[\"Count\",\"@{A_0_count}\"]]},\"id\":\"1883\",\"type\":\"HoverTool\"},{\"attributes\":{},\"id\":\"1934\",\"type\":\"UnionRenderers\"},{\"attributes\":{\"text\":\"\",\"text_color\":{\"value\":\"black\"},\"text_font_size\":{\"value\":\"12pt\"}},\"id\":\"1885\",\"type\":\"Title\"},{\"attributes\":{},\"id\":\"1907\",\"type\":\"ResetTool\"}],\"root_ids\":[\"1884\"]},\"title\":\"Bokeh Application\",\"version\":\"1.3.4\"}};\n",
       "  var render_items = [{\"docid\":\"f54db72b-8856-475c-8c38-68982a5e1cd2\",\"roots\":{\"1884\":\"a9f3e335-ba77-45d3-aa1b-a5549772a500\"}}];\n",
       "  root.Bokeh.embed.embed_items_notebook(docs_json, render_items);\n",
       "\n",
       "  }\n",
       "  if (root.Bokeh !== undefined) {\n",
       "    embed_document(root);\n",
       "  } else {\n",
       "    var attempts = 0;\n",
       "    var timer = setInterval(function(root) {\n",
       "      if (root.Bokeh !== undefined) {\n",
       "        embed_document(root);\n",
       "        clearInterval(timer);\n",
       "      }\n",
       "      attempts++;\n",
       "      if (attempts > 100) {\n",
       "        console.log(\"Bokeh: ERROR: Unable to run BokehJS code because BokehJS library is missing\");\n",
       "        clearInterval(timer);\n",
       "      }\n",
       "    }, 10, root)\n",
       "  }\n",
       "})(window);</script>"
      ],
      "text/plain": [
       ":Histogram   [0]   (0_count)"
      ]
     },
     "execution_count": 51,
     "metadata": {
      "application/vnd.holoviews_exec.v0+json": {
       "id": "1884"
      }
     },
     "output_type": "execute_result"
    }
   ],
   "source": [
    "# Histogram of the bootstrapped means\n",
    "pd.Series(mub).hvplot.hist(color=\"dodgerblue\", line_color=\"dodgerblue\", bins=30)"
   ]
  },
  {
   "cell_type": "markdown",
   "metadata": {},
   "source": [
    "#### The Generalized Linear Model of Log-Spend"
   ]
  },
  {
   "cell_type": "code",
   "execution_count": 52,
   "metadata": {},
   "outputs": [],
   "source": [
    "from sklearn import linear_model\n",
    "reg = linear_model.LinearRegression()"
   ]
  },
  {
   "cell_type": "code",
   "execution_count": 54,
   "metadata": {},
   "outputs": [
    {
     "data": {
      "text/plain": [
       "0       0\n",
       "1       1\n",
       "2       1\n",
       "3       0\n",
       "4       0\n",
       "       ..\n",
       "9995    1\n",
       "9996    1\n",
       "9997    1\n",
       "9998    0\n",
       "9999    0\n",
       "Name: anychildren, Length: 10000, dtype: int64"
      ]
     },
     "execution_count": 54,
     "metadata": {},
     "output_type": "execute_result"
    }
   ],
   "source": [
    "y = df[\"spend\"]\n",
    "X1 = df[\"broadband\"]\n",
    "X2 = df[\"anychildren\"]"
   ]
  },
  {
   "cell_type": "code",
   "execution_count": null,
   "metadata": {},
   "outputs": [],
   "source": []
  }
 ],
 "metadata": {
  "kernelspec": {
   "display_name": "Python 3",
   "language": "python",
   "name": "python3"
  },
  "language_info": {
   "codemirror_mode": {
    "name": "ipython",
    "version": 3
   },
   "file_extension": ".py",
   "mimetype": "text/x-python",
   "name": "python",
   "nbconvert_exporter": "python",
   "pygments_lexer": "ipython3",
   "version": "3.7.4"
  }
 },
 "nbformat": 4,
 "nbformat_minor": 2
}
